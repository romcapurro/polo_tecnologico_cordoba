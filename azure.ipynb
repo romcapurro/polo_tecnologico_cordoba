{
 "cells": [
  {
   "cell_type": "code",
   "execution_count": 2,
   "metadata": {},
   "outputs": [],
   "source": [
    "import pyodbc\n",
    "import pandas as pd\n",
    "server = 'romcapurro.database.windows.net'\n",
    "database = 'telecom'\n",
    "username = 'romcapurro'\n",
    "password = '{C!rc4C0mb4t}'\n",
    "driver= '{ODBC Driver 18 for SQL Server}'\n",
    "\n",
    "# Crear un DataFrame de ejemplo\n",
    "df = pd.read_csv('historico_velocidad_internet_media_nuevo.csv')\n",
    "df = df.drop(columns=['Unnamed: 0'])\n",
    "\n",
    "# Cadena de conexión\n",
    "conn_str = f'DRIVER='+driver+';SERVER=tcp:'+server+';PORT=1433;DATABASE='+database+';UID='+username+';PWD='+ password+';Encrypt=yes;TrustServerCertificate=no;Connection Timeout=30'\n",
    "\n",
    "# Conexion\n",
    "conn = pyodbc.connect(conn_str)\n",
    "\n",
    "# Crear un cursor\n",
    "cursor = conn.cursor()\n",
    "\n",
    "# Nombre de la tabla en Azure SQL Database\n",
    "table_name = 'historico_velocidad_media'\n",
    "\n",
    "# Crear la tabla si no existe (puedes personalizar esto según tus necesidades)\n",
    "cursor.execute(f'''\n",
    "    IF OBJECT_ID('{table_name}', 'U') IS NULL\n",
    "    BEGIN\n",
    "        CREATE TABLE {table_name} (\n",
    "            anio INT,\n",
    "            trimestre INT,\n",
    "            provincia VARCHAR(100),\n",
    "            velocidad_media VARCHAR(10)\n",
    "        );\n",
    "    END\n",
    "''')\n",
    "conn.commit()\n",
    "\n",
    "# Insertar datos en la tabla\n",
    "for index, row in df.iterrows():\n",
    "    cursor.execute(f\"INSERT INTO {table_name} (anio, trimestre, provincia, velocidad_media) VALUES ({row['Año']}, {row['Trimestre']}, '{row['Provincia']}', '{row['Velocidad_Media']}')\")\n",
    "\n",
    "# Confirmar la transacción\n",
    "conn.commit()\n",
    "\n",
    "# Cerrar la conexión\n",
    "conn.close()"
   ]
  }
 ],
 "metadata": {
  "kernelspec": {
   "display_name": "Python 3",
   "language": "python",
   "name": "python3"
  },
  "language_info": {
   "codemirror_mode": {
    "name": "ipython",
    "version": 3
   },
   "file_extension": ".py",
   "mimetype": "text/x-python",
   "name": "python",
   "nbconvert_exporter": "python",
   "pygments_lexer": "ipython3",
   "version": "3.12.0"
  }
 },
 "nbformat": 4,
 "nbformat_minor": 2
}
