{
 "cells": [
  {
   "cell_type": "code",
   "execution_count": 16,
   "metadata": {},
   "outputs": [
    {
     "name": "stdout",
     "output_type": "stream",
     "text": [
      "                         nombre        municipio.nombre departamento.nombre  \\\n",
      "1060                      AMBOY                   Amboy         Calamuchita   \n",
      "1061         ARROYO SAN ANTONIO                    None         Calamuchita   \n",
      "1062           CAÑADA DEL SAUCE        Cañada del Sauce         Calamuchita   \n",
      "1063              CAPILLA VIEJA  Villa General Belgrano         Calamuchita   \n",
      "1064  EL CORCOVADO - EL TORREON           Villa Rumipal         Calamuchita   \n",
      "...                         ...                     ...                 ...   \n",
      "1623                 SAN MARCOS          San Marcos Sud               Unión   \n",
      "1624                 SAN SEVERO                    None               Unión   \n",
      "1625                   VIAMONTE                Viamonte               Unión   \n",
      "1626            VILLA LOS PATOS         Villa los Patos               Unión   \n",
      "1627        WENCESLAO ESCALANTE     Wenceslao Escalante               Unión   \n",
      "\n",
      "     provincia.nombre provincia.id    localidad_censal.nombre  \n",
      "1060          Córdoba           14                      Amboy  \n",
      "1061          Córdoba           14         Arroyo San Antonio  \n",
      "1062          Córdoba           14           Cañada del Sauce  \n",
      "1063          Córdoba           14              Capilla Vieja  \n",
      "1064          Córdoba           14  El Corcovado - El Torreón  \n",
      "...               ...          ...                        ...  \n",
      "1623          Córdoba           14                 San Marcos  \n",
      "1624          Córdoba           14                 San Severo  \n",
      "1625          Córdoba           14                   Viamonte  \n",
      "1626          Córdoba           14            Villa Los Patos  \n",
      "1627          Córdoba           14        Wenceslao Escalante  \n",
      "\n",
      "[568 rows x 6 columns]\n"
     ]
    }
   ],
   "source": [
    "import pandas as pd\n",
    "import json\n",
    "\n",
    "# Cargar el archivo JSON en un DataFrame\n",
    "with open('localidades.json', 'r') as file:\n",
    "    data = json.load(file)\n",
    "\n",
    "df = pd.json_normalize(data['localidades'])\n",
    "\n",
    "# Eliminar columnas no deseadas\n",
    "columnas_a_eliminar = ['categoria', 'fuente', 'municipio.id', 'departamento.id',\n",
    "                       'id', 'localidad_censal.id', 'centroide.lat', 'centroide.lon']\n",
    "df = df.drop(columns=columnas_a_eliminar)\n",
    "\n",
    "# Filtrar por la provincia de Córdoba\n",
    "df_cordoba = df[df['provincia.nombre'] == 'Córdoba']\n",
    "\n",
    "# Mostrar las localidades pertenecientes a Córdoba\n",
    "print(df_cordoba)"
   ]
  },
  {
   "cell_type": "code",
   "execution_count": null,
   "metadata": {},
   "outputs": [],
   "source": []
  },
  {
   "cell_type": "code",
   "execution_count": null,
   "metadata": {},
   "outputs": [],
   "source": []
  }
 ],
 "metadata": {
  "kernelspec": {
   "display_name": "Python 3",
   "language": "python",
   "name": "python3"
  },
  "language_info": {
   "codemirror_mode": {
    "name": "ipython",
    "version": 3
   },
   "file_extension": ".py",
   "mimetype": "text/x-python",
   "name": "python",
   "nbconvert_exporter": "python",
   "pygments_lexer": "ipython3",
   "version": "3.11.4"
  }
 },
 "nbformat": 4,
 "nbformat_minor": 2
}
